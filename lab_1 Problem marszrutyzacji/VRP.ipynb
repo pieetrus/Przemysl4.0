{
 "cells": [
  {
   "cell_type": "code",
   "execution_count": 131,
   "metadata": {},
   "outputs": [
    {
     "ename": "ModuleNotFoundError",
     "evalue": "No module named 'matplotlib'",
     "output_type": "error",
     "traceback": [
      "\u001b[1;31m---------------------------------------------------------------------------\u001b[0m",
      "\u001b[1;31mModuleNotFoundError\u001b[0m                       Traceback (most recent call last)",
      "\u001b[1;32m<ipython-input-131-71225e3ad40e>\u001b[0m in \u001b[0;36m<module>\u001b[1;34m\u001b[0m\n\u001b[0;32m      1\u001b[0m \u001b[1;32mimport\u001b[0m \u001b[0mpandas\u001b[0m \u001b[1;32mas\u001b[0m \u001b[0mpd\u001b[0m\u001b[1;33m\u001b[0m\u001b[1;33m\u001b[0m\u001b[0m\n\u001b[1;32m----> 2\u001b[1;33m \u001b[1;32mimport\u001b[0m \u001b[0mmatplotlib\u001b[0m\u001b[1;33m.\u001b[0m\u001b[0mpyplot\u001b[0m \u001b[1;32mas\u001b[0m \u001b[0mplt\u001b[0m\u001b[1;33m\u001b[0m\u001b[1;33m\u001b[0m\u001b[0m\n\u001b[0m",
      "\u001b[1;31mModuleNotFoundError\u001b[0m: No module named 'matplotlib'"
     ]
    }
   ],
   "source": [
    "import pandas as pd\n",
    "import matplotlib.pyplot as plt"
   ]
  },
  {
   "cell_type": "code",
   "execution_count": 103,
   "metadata": {
    "scrolled": false
   },
   "outputs": [],
   "source": [
    "reader = pd.read_csv('./data/PL.csv', delimiter=';', header=None)\n",
    "n = int(reader[0][0]) # ilość miejscowości\n",
    "unit = reader[0][1] # jednostka odległości\n",
    "distance_data = pd.read_csv('./data/PL.csv', delimiter=';',skiprows=[0,1] + list(range(n+2,2*n+2)), header=None) # odlegołości między poszczególnymi miejscowościami\n",
    "location_data = pd.read_csv('./data/PL.csv', delimiter=';',skiprows=list(range(0,n+2)), header=None).dropna(axis=1, how='all') # lokacja miejscowości"
   ]
  },
  {
   "cell_type": "code",
   "execution_count": 127,
   "metadata": {},
   "outputs": [
    {
     "name": "stdout",
     "output_type": "stream",
     "text": [
      "54,1909742\n"
     ]
    }
   ],
   "source": [
    "cities = list(location_data[1])\n",
    "# latlng = ['latitude', 'longitude']\n",
    "cities = print(location_data.loc[12][2])\n"
   ]
  },
  {
   "cell_type": "code",
   "execution_count": 128,
   "metadata": {},
   "outputs": [],
   "source": [
    "#make some positions (so we can plot this)\n",
    "# print(location_data[2])\n",
    "positions = dict( ( city, (location_data.loc[city][2], location_data.loc[city][3]) ) for city in list(range(n)))"
   ]
  },
  {
   "cell_type": "code",
   "execution_count": null,
   "metadata": {},
   "outputs": [],
   "source": [
    "for s in positions:\n",
    "    p = positions[s]\n",
    "    plt.plot(p[0],p[1],'o')\n",
    "    plt.text(p[0]+.01,p[1],s,horizontalalignment='left',verticalalignment='center')\n",
    "    \n",
    "plt.gca().axis('off');\n",
    "plt.show()"
   ]
  },
  {
   "cell_type": "code",
   "execution_count": null,
   "metadata": {},
   "outputs": [],
   "source": []
  }
 ],
 "metadata": {
  "kernelspec": {
   "display_name": "Python 3",
   "language": "python",
   "name": "python3"
  },
  "language_info": {
   "codemirror_mode": {
    "name": "ipython",
    "version": 3
   },
   "file_extension": ".py",
   "mimetype": "text/x-python",
   "name": "python",
   "nbconvert_exporter": "python",
   "pygments_lexer": "ipython3",
   "version": "3.9.0"
  }
 },
 "nbformat": 4,
 "nbformat_minor": 4
}
